{
 "cells": [
  {
   "cell_type": "markdown",
   "metadata": {},
   "source": [
    "# Basic Image Standards\n",
    "\n",
    "In this notebooks we are going to explore some of the different standards that are used to store photographs and similar images. Specifically, we will explore the following standards\n",
    "\n",
    "* [TGA](https://en.wikipedia.org/wiki/Truevision_TGA)\n",
    "* [PNG](https://www.w3.org/TR/2003/REC-PNG-20031110/)\n",
    "* [TIFF](https://www.adobe.io/open/standards/TIFF.html)\n",
    "* [JPEG](https://jpeg.org/jpeg/)"
   ]
  },
  {
   "cell_type": "code",
   "execution_count": null,
   "metadata": {},
   "outputs": [],
   "source": [
    "from istools import *\n",
    "import warnings\n",
    "warnings.filterwarnings('ignore')"
   ]
  },
  {
   "cell_type": "markdown",
   "metadata": {},
   "source": [
    "We are going to start with a sample photograph of my daughter (used with her permission!).\n",
    "\n",
    "<img src=\"./data/daughter.jpg\" alt=\"daughter with basketball\" width=\"128\" height=\"192\">"
   ]
  },
  {
   "cell_type": "markdown",
   "metadata": {
    "solution2": "hidden"
   },
   "source": [
    "# How would you define an image?\n",
    "\n",
    "Let's look at the metadata that is stored for our simplest image"
   ]
  },
  {
   "cell_type": "code",
   "execution_count": null,
   "metadata": {},
   "outputs": [],
   "source": [
    "print(view_img_metadata(\"./data/daughter.tga\"))\n"
   ]
  },
  {
   "cell_type": "markdown",
   "metadata": {},
   "source": [
    "### Now let's look at a the TIFF representation"
   ]
  },
  {
   "cell_type": "code",
   "execution_count": null,
   "metadata": {},
   "outputs": [],
   "source": [
    "print(view_img_metadata(\"./data/daughter.tiff\"))"
   ]
  },
  {
   "cell_type": "markdown",
   "metadata": {},
   "source": [
    "### Are there any notable differences between the TIFF and TGA metadata?"
   ]
  },
  {
   "cell_type": "markdown",
   "metadata": {},
   "source": [
    "## Now let's look at PNG"
   ]
  },
  {
   "cell_type": "code",
   "execution_count": null,
   "metadata": {},
   "outputs": [],
   "source": [
    "print(view_img_metadata(\"./data/daughter.png\"))\n"
   ]
  },
  {
   "cell_type": "markdown",
   "metadata": {},
   "source": [
    "### That is a lot more information!\n",
    "\n",
    "* Now we have lots of information about how the photograph was created\n",
    "    * Camera make and model\n",
    "    * Camera settings (e.g. PhotographicSensitivity=200)\n",
    "    * Note that there are values that obviously need interpretation\n",
    "        * What in the world does `MeteringMode=3` mean? or `LightSource=9`?\n",
    "* Notice that there is some sense of file history:\n",
    "    * DateTimeOriginal=2005:07:08 19:51:47\n",
    "    * DateTime=2008:12:23 12:50:21\n",
    "    * modify=2017-02-06T03:47:30+00:00\n",
    "    * create=2020-03-25T23:34:30+00:00\n",
    "* Endianness has changed!\n",
    "* There is now explicit information about how color is represented: `Pixel format: RGB`. \n",
    "    * Did TGA and TIFF only have one choice\n"
   ]
  },
  {
   "cell_type": "markdown",
   "metadata": {},
   "source": [
    "### Now let's look at the original JPEG image"
   ]
  },
  {
   "cell_type": "code",
   "execution_count": null,
   "metadata": {},
   "outputs": [],
   "source": [
    "print(view_img_metadata(\"./data/daughter.jpg\"))"
   ]
  },
  {
   "cell_type": "markdown",
   "metadata": {},
   "source": [
    "### What are some of the notable differences between the PNG and JPEG images?"
   ]
  },
  {
   "cell_type": "markdown",
   "metadata": {},
   "source": [
    "### What are the respective file sizes?"
   ]
  },
  {
   "cell_type": "code",
   "execution_count": null,
   "metadata": {},
   "outputs": [],
   "source": [
    "!ls -ltra data/daughter.*"
   ]
  },
  {
   "cell_type": "markdown",
   "metadata": {},
   "source": [
    "The TIFF and TGA images are uncompressed, so they only differ by the size of the header (metadata). PNG uses a **lossless** compression, so is substantially smaller than the TIF/TGA but larger than the JPEG image which uses **lossy** compression."
   ]
  },
  {
   "cell_type": "markdown",
   "metadata": {},
   "source": [
    "### Here is a newer image\n",
    "\n",
    "<img src=\"./data/skiing.jpg\" alt=\"skiing with daughter\" width=\"128\" height=\"171\">"
   ]
  },
  {
   "cell_type": "code",
   "execution_count": null,
   "metadata": {},
   "outputs": [],
   "source": [
    "print(view_img_metadata(\"./data/skiing.jpg\"))"
   ]
  },
  {
   "cell_type": "markdown",
   "metadata": {},
   "source": [
    "### Do you notice anything new in the more recent image? If so, what?"
   ]
  },
  {
   "cell_type": "code",
   "execution_count": null,
   "metadata": {},
   "outputs": [],
   "source": []
  }
 ],
 "metadata": {
  "@webio": {
   "lastCommId": null,
   "lastKernelId": null
  },
  "kernelspec": {
   "display_name": "Python 3 (ipykernel)",
   "language": "python",
   "name": "python3"
  },
  "language_info": {
   "codemirror_mode": {
    "name": "ipython",
    "version": 3
   },
   "file_extension": ".py",
   "mimetype": "text/x-python",
   "name": "python",
   "nbconvert_exporter": "python",
   "pygments_lexer": "ipython3",
   "version": "3.9.6"
  }
 },
 "nbformat": 4,
 "nbformat_minor": 4
}
